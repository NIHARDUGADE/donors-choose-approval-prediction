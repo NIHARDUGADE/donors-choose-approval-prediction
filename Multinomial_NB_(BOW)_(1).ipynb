{
  "cells": [
    {
      "cell_type": "markdown",
      "metadata": {
        "id": "Dnubs-Nnb3cw"
      },
      "source": [
        "# Assignment 6: Apply NB"
      ]
    },
    {
      "cell_type": "markdown",
      "metadata": {
        "id": "RW0zYHb5m_wI"
      },
      "source": [
        "<ol>\n",
        "    <li>Minimum data points need to be considered for people having 4GB RAM is <strong>50k</strong> and for 8GB RAM is <strong>100k</strong></li>\n",
        "    <li>When you are using ramdomsearchcv or gridsearchcv you need not split the data into X_train,X_cv,X_test. As the above methods use kfold. The model will learn better if train data is more so splitting to X_train,X_test will suffice.</li>\n",
        "    <li>If you are writing for loops to tune your model then you need split the data into X_train,X_cv,X_test.</li>\n",
        "    <li>While splitting the data explore stratify parameter. </li>\n",
        "    <li><strong>Apply Multinomial NB on these feature sets</strong></li>\n",
        "        <ul>\n",
        "            <li>Features that need to be considered</li> \n",
        "                <dl>\n",
        "                  <dt>essay</dt>\n",
        "                    <dd>while encoding essay, try to experiment with the max_features and n_grams parameter of vectorizers and see if it increases AUC score.</dd>\n",
        "                  <dt>categorical features</dt>\n",
        "                  <dd> - teacher_prefix</dd>\n",
        "                  <dd> - project_grade_category</dd>\n",
        "                  <dd> - school_state</dd>\n",
        "                  <dd> - clean_categories</dd>\n",
        "                  <dd> - clean_subcategories</dd>\n",
        "                  <dt>numerical features</dt>\n",
        "                  <dd> - price</dd>\n",
        "                  <dd> - teacher_number_of_previously_posted_projects</dd>\n",
        "                  <dd>while encoding the numerical features check <a href='https://imgur.com/ldZA1zg'>this</a> and <a href='https://ac-classroom-production.s3.amazonaws.com/public/COMMENT/Annotation_2020-05-21_225912_0lyZzN8.jpg'>this</a></dd>\n",
        "                </dl>    \n",
        "            <li><font color='red'>Set 1</font>: categorical, numerical features + preprocessed_eassay (BOW)</li>\n",
        "            <li><font color='red'>Set 2</font>: categorical, numerical features + preprocessed_eassay (TFIDF)</li>\n",
        "        </ul>\n",
        "    <li><strong>The hyper paramter tuning(find best alpha:smoothing parameter)</strong>\n",
        "        <ul>\n",
        "    <li>Consider alpha values in range: 10^-5 to 10^2 like [0.00001,0.0005, 0.0001,0.005,0.001,0.05,0.01,0.1,0.5,1,5,10,50,100]</li>\n",
        "    <li>Explore class_prior = [0.5, 0.5] parameter which can be present in MultinomialNB function(go through <a href='https://scikit-learn.org/stable/modules/generated/sklearn.naive_bayes.MultinomialNB.html'>this</a> ) then check how results might change.\n",
        "    <li>Find the best hyper parameter which will give the maximum <a href='https://www.appliedaicourse.com/course/applied-ai-course-online/lessons/receiver-operating-characteristic-curve-roc-curve-and-auc-1/'>AUC</a> value</li>\n",
        "    <li>For hyper parameter tuning using k-fold cross validation(use GridsearchCV or RandomsearchCV)/simple cross validation data (write for loop to iterate over hyper parameter values)</li>\n",
        "    <li>You need to plot the performance of model both on train data and cross validation data for each hyper parameter, like shown in the figure\n",
        "    <img src='https://i.imgur.com/hUv6aEy.jpg' width=300px><dd>-while plotting take log(alpha) on your X-axis so that it will be more readable</dd></li>\n",
        "    <li>Once after you found the best hyper parameter, you need to train your model with it, and find the AUC on test data and plot the ROC curve on both train and test.\n",
        "    <img src='https://imgur.com/q2P65L5.jpg' width=300px></li>\n",
        "    <li>Along with plotting ROC curve, you need to print the <a href='https://www.appliedaicourse.com/course/applied-ai-course-online/lessons/confusion-matrix-tpr-fpr-fnr-tnr-1/'>confusion matrix</a> with predicted and original labels of test data points\n",
        "        <img src='https://i.imgur.com/IdN5Ctv.png' width=300px><dd>-plot the confusion matrix in heatmaps, while plotting the confusion matrix go through the <a href='https://stackoverflow.com/questions/61748441/how-to-fix-the-values-displayed-in-a-confusion-matrix-in-exponential-form-to-nor'>link </a>\n",
        "</dd></li>\n",
        "        </ul>\n",
        "<li>find the top 20 features from either from feature <font color='red'>Set 1</font> or feature <font color='red'>Set 2</font> using values of `feature_log_prob_ ` parameter of `MultinomialNB` \n",
        "(https://scikit-learn.org/stable/modules/generated/sklearn.naive_bayes.MultinomialNB.html) and print <strong>BOTH</strong> positive as well as negative corresponding feature names. <dd> - go through the <a href='https://imgur.com/mWvE7gj'>link </a> </dd>\n",
        "    </li>\n",
        "    <li>You need to summarize the results at the end of the notebook, summarize it in the table format\n",
        "        <img src='http://i.imgur.com/YVpIGGE.jpg' width=400px>\n",
        "    </li>\n",
        "</ol>"
      ]
    },
    {
      "cell_type": "code",
      "execution_count": 1,
      "metadata": {
        "id": "chpSjDaXm9KG"
      },
      "outputs": [],
      "source": [
        "%matplotlib inline\n",
        "import warnings\n",
        "warnings.filterwarnings(\"ignore\")\n",
        "\n",
        "import pandas as pd\n",
        "import numpy as np\n",
        "import nltk\n",
        "import matplotlib.pyplot as plt\n",
        "import seaborn as sns\n",
        "from sklearn.feature_extraction.text import TfidfVectorizer\n",
        "from sklearn.feature_extraction.text import CountVectorizer\n",
        "from sklearn.metrics import confusion_matrix\n",
        "from sklearn import metrics\n",
        "from sklearn.metrics import roc_curve, auc\n",
        "\n",
        "import re\n",
        "# Tutorial about Python regular expressions: https://pymotw.com/2/re/\n",
        "\n",
        "import pickle\n",
        "from tqdm import tqdm\n",
        "import os\n",
        "from collections import Counter\n",
        "from sklearn.model_selection import train_test_split\n",
        "from sklearn.preprocessing import Normalizer\n",
        "from scipy.sparse import hstack\n",
        "from sklearn.naive_bayes import MultinomialNB\n",
        "from sklearn.model_selection import RandomizedSearchCV\n",
        "import math\n",
        "from sklearn.metrics import f1_score , accuracy_score\n"
      ]
    },
    {
      "cell_type": "markdown",
      "metadata": {
        "id": "inzYCIaib3c3"
      },
      "source": [
        "<h1>2. Naive Bayes </h1>"
      ]
    },
    {
      "cell_type": "markdown",
      "metadata": {
        "id": "FYqCIxzFb3c5"
      },
      "source": [
        "## 1.1 Loading Data"
      ]
    },
    {
      "cell_type": "code",
      "source": [
        "from google.colab import drive\n",
        "drive.mount('/content/drive')"
      ],
      "metadata": {
        "colab": {
          "base_uri": "https://localhost:8080/"
        },
        "id": "vHXm8QCwliL-",
        "outputId": "797af666-c22a-40b9-9acc-52782ec902fe"
      },
      "execution_count": 5,
      "outputs": [
        {
          "output_type": "stream",
          "name": "stdout",
          "text": [
            "Drive already mounted at /content/drive; to attempt to forcibly remount, call drive.mount(\"/content/drive\", force_remount=True).\n"
          ]
        }
      ]
    },
    {
      "cell_type": "code",
      "execution_count": 6,
      "metadata": {
        "id": "dA1jknyqb3c_"
      },
      "outputs": [],
      "source": [
        "data = pd.read_csv('/content/drive/MyDrive/DT on donors choose/preprocessed_data.csv')"
      ]
    },
    {
      "cell_type": "code",
      "execution_count": 7,
      "metadata": {
        "id": "5roTC3i3kq9F"
      },
      "outputs": [],
      "source": [
        "y=data['project_is_approved']\n",
        "X=data.drop(['project_is_approved'], axis=1)"
      ]
    },
    {
      "cell_type": "code",
      "execution_count": 8,
      "metadata": {
        "colab": {
          "base_uri": "https://localhost:8080/"
        },
        "id": "9yIKu-bDkq9H",
        "outputId": "8e181474-297f-4d87-f47d-8c3b92fcb198"
      },
      "outputs": [
        {
          "output_type": "execute_result",
          "data": {
            "text/plain": [
              "1    92706\n",
              "0    16542\n",
              "Name: project_is_approved, dtype: int64"
            ]
          },
          "metadata": {},
          "execution_count": 8
        }
      ],
      "source": [
        "data['project_is_approved'].value_counts()"
      ]
    },
    {
      "cell_type": "code",
      "execution_count": 9,
      "metadata": {
        "colab": {
          "base_uri": "https://localhost:8080/"
        },
        "id": "frc0a55skq9J",
        "outputId": "b6d37193-e5eb-4dd0-ae02-60909d7505f7"
      },
      "outputs": [
        {
          "output_type": "execute_result",
          "data": {
            "text/plain": [
              "(109248, 8)"
            ]
          },
          "metadata": {},
          "execution_count": 9
        }
      ],
      "source": [
        "X.shape"
      ]
    },
    {
      "cell_type": "markdown",
      "metadata": {
        "id": "WtVV13Fyb3dH"
      },
      "source": [
        "<h2>1.2 Splitting data into Train and cross validation(or test): Stratified Sampling</h2>"
      ]
    },
    {
      "cell_type": "code",
      "execution_count": 10,
      "metadata": {
        "id": "i-PyprDNb3dI"
      },
      "outputs": [],
      "source": [
        "# please write all the code with proper documentation, and proper titles for each subsection\n",
        "# go through documentations and blogs before you start coding\n",
        "# first figure out what to do, and then think about how to do.\n",
        "# reading and understanding error messages will be very much helpfull in debugging your code\n",
        "# when you plot any graph make sure you use \n",
        "    # a. Title, that describes your plot, this will be very helpful to the reader\n",
        "    # b. Legends if needed\n",
        "    # c. X-axis label\n",
        "    # d. Y-axis label"
      ]
    },
    {
      "cell_type": "code",
      "execution_count": 11,
      "metadata": {
        "id": "xdoTrR7gkq9M"
      },
      "outputs": [],
      "source": [
        "X_train, X_test, y_train, y_test = train_test_split(X, y, test_size=0.33, stratify=y)\n",
        "#X_train, X_cv, y_train, y_cv = train_test_split(X_train, y_train, test_size=0.33, stratify=y_train)"
      ]
    },
    {
      "cell_type": "code",
      "execution_count": 11,
      "metadata": {
        "id": "jtvNI1qCkq9N"
      },
      "outputs": [],
      "source": [
        ""
      ]
    },
    {
      "cell_type": "markdown",
      "metadata": {
        "id": "EnZwVNULb3dO"
      },
      "source": [
        "<h2>1.3 Make Data Model Ready: encoding eassay, and project_title</h2>"
      ]
    },
    {
      "cell_type": "code",
      "execution_count": 12,
      "metadata": {
        "id": "-SczZKiab3dR"
      },
      "outputs": [],
      "source": [
        "# please write all the code with proper documentation, and proper titles for each subsection\n",
        "# go through documentations and blogs before you start coding\n",
        "# first figure out what to do, and then think about how to do.\n",
        "# reading and understanding error messages will be very much helpfull in debugging your code\n",
        "# make sure you featurize train and test data separatly\n",
        "\n",
        "# when you plot any graph make sure you use \n",
        "    # a. Title, that describes your plot, this will be very helpful to the reader\n",
        "    # b. Legends if needed\n",
        "    # c. X-axis label\n",
        "    # d. Y-axis label"
      ]
    },
    {
      "cell_type": "code",
      "execution_count": 13,
      "metadata": {
        "colab": {
          "base_uri": "https://localhost:8080/"
        },
        "id": "d9uLXhuzkq9O",
        "outputId": "c4a9e02f-0053-42bd-b66b-64ded98e34b0"
      },
      "outputs": [
        {
          "output_type": "execute_result",
          "data": {
            "text/plain": [
              "CountVectorizer(max_features=10000, min_df=10, ngram_range=(1, 4))"
            ]
          },
          "metadata": {},
          "execution_count": 13
        }
      ],
      "source": [
        "vectorizer=CountVectorizer(min_df=10,ngram_range=(1,4), max_features=10000)\n",
        "vectorizer.fit(X_train['essay'].values)\n",
        "\n"
      ]
    },
    {
      "cell_type": "code",
      "execution_count": 14,
      "metadata": {
        "colab": {
          "base_uri": "https://localhost:8080/"
        },
        "id": "wRA4ZkNZkq9P",
        "outputId": "8c4915af-df52-4b2d-f2b2-3d6cb5a36203"
      },
      "outputs": [
        {
          "output_type": "stream",
          "name": "stderr",
          "text": [
            "100%|██████████| 73196/73196 [00:39<00:00, 1863.47it/s]\n",
            "100%|██████████| 36052/36052 [00:19<00:00, 1890.66it/s]\n"
          ]
        }
      ],
      "source": [
        "X_train_bow_essay= vectorizer.transform(tqdm(X_train['essay'].values))\n",
        "#X_cv_bow_essay=vectorizer.transform(tqdm(X_cv['essay'].values))\n",
        "X_test_bow_essay=vectorizer.transform(tqdm(X_test['essay'].values))"
      ]
    },
    {
      "cell_type": "code",
      "execution_count": 14,
      "metadata": {
        "id": "vbBplgC2kq9Q"
      },
      "outputs": [],
      "source": [
        ""
      ]
    },
    {
      "cell_type": "code",
      "execution_count": 14,
      "metadata": {
        "id": "da6b7WCTkq9Q"
      },
      "outputs": [],
      "source": [
        ""
      ]
    },
    {
      "cell_type": "markdown",
      "metadata": {
        "id": "bGy86kgHb3dX"
      },
      "source": [
        "<h2>1.4 Make Data Model Ready: encoding numerical, categorical features</h2>"
      ]
    },
    {
      "cell_type": "code",
      "execution_count": 15,
      "metadata": {
        "id": "EfXkofX1b3da"
      },
      "outputs": [],
      "source": [
        "# please write all the code with proper documentation, and proper titles for each subsection\n",
        "# go through documentations and blogs before you start coding \n",
        "# first figure out what to do, and then think about how to do.\n",
        "# reading and understanding error messages will be very much helpfull in debugging your code\n",
        "# make sure you featurize train and test data separatly\n",
        "\n",
        "# when you plot any graph make sure you use \n",
        "    # a. Title, that describes your plot, this will be very helpful to the reader\n",
        "    # b. Legends if needed\n",
        "    # c. X-axis label\n",
        "    # d. Y-axis label"
      ]
    },
    {
      "cell_type": "markdown",
      "metadata": {
        "id": "J5FHu9Fikq9R"
      },
      "source": [
        "-  1.4.1 Encoding School_state"
      ]
    },
    {
      "cell_type": "code",
      "execution_count": 16,
      "metadata": {
        "colab": {
          "base_uri": "https://localhost:8080/"
        },
        "id": "tTEJBMnMkq9S",
        "outputId": "1c6e0641-380c-4518-99d0-46dd17535498"
      },
      "outputs": [
        {
          "output_type": "execute_result",
          "data": {
            "text/plain": [
              "CountVectorizer()"
            ]
          },
          "metadata": {},
          "execution_count": 16
        }
      ],
      "source": [
        "vectorizer = CountVectorizer()\n",
        "vectorizer.fit(X_train['school_state'].values) # fit has to happen only on train data\n",
        "\n"
      ]
    },
    {
      "cell_type": "code",
      "execution_count": 17,
      "metadata": {
        "colab": {
          "base_uri": "https://localhost:8080/"
        },
        "id": "B78dmpB5kq9S",
        "outputId": "5ec99c5f-0d7d-4dfb-e2a8-fb6a4011d228"
      },
      "outputs": [
        {
          "output_type": "stream",
          "name": "stderr",
          "text": [
            "100%|██████████| 73196/73196 [00:00<00:00, 293090.91it/s]\n",
            "100%|██████████| 36052/36052 [00:00<00:00, 285040.88it/s]\n"
          ]
        }
      ],
      "source": [
        "X_train_state_ohe = vectorizer.transform(tqdm(X_train['school_state'].values))\n",
        "#X_cv_state_ohe = vectorizer.transform(tqdm(X_cv['school_state'].values))\n",
        "X_test_state_ohe = vectorizer.transform(tqdm(X_test['school_state'].values))"
      ]
    },
    {
      "cell_type": "markdown",
      "metadata": {
        "id": "hdbiUI8Akq9T"
      },
      "source": [
        "------------"
      ]
    },
    {
      "cell_type": "markdown",
      "metadata": {
        "id": "oQsYgSUtkq9T"
      },
      "source": [
        "-  1.4.2 Encoding teacher_prefix"
      ]
    },
    {
      "cell_type": "code",
      "execution_count": 18,
      "metadata": {
        "colab": {
          "base_uri": "https://localhost:8080/"
        },
        "id": "vw1EI5Dskq9T",
        "outputId": "37c2d27c-dde1-4400-f015-52abc369351d"
      },
      "outputs": [
        {
          "output_type": "execute_result",
          "data": {
            "text/plain": [
              "CountVectorizer()"
            ]
          },
          "metadata": {},
          "execution_count": 18
        }
      ],
      "source": [
        "vectorizer = CountVectorizer()\n",
        "vectorizer.fit(X_train['teacher_prefix'].values) # fit has to happen only on train data\n",
        "\n",
        "# we use the fitted CountVectorizer to convert the text to vector\n",
        "\n",
        "\n"
      ]
    },
    {
      "cell_type": "code",
      "execution_count": 19,
      "metadata": {
        "scrolled": true,
        "colab": {
          "base_uri": "https://localhost:8080/"
        },
        "id": "iosQCw3zkq9U",
        "outputId": "94650608-bd36-4392-933d-cf9e3fc1dcf3"
      },
      "outputs": [
        {
          "output_type": "stream",
          "name": "stderr",
          "text": [
            "100%|██████████| 73196/73196 [00:00<00:00, 283570.32it/s]\n",
            "100%|██████████| 36052/36052 [00:00<00:00, 296254.52it/s]\n"
          ]
        }
      ],
      "source": [
        "X_train_teacher_ohe = vectorizer.transform(tqdm(X_train['teacher_prefix'].values))\n",
        "#X_cv_teacher_ohe = vectorizer.transform(tqdm(X_cv['teacher_prefix'].values))\n",
        "X_test_teacher_ohe = vectorizer.transform(tqdm(X_test['teacher_prefix'].values))"
      ]
    },
    {
      "cell_type": "markdown",
      "metadata": {
        "id": "25FgUSuqkq9V"
      },
      "source": [
        "-----------------------------------------------------------------------"
      ]
    },
    {
      "cell_type": "markdown",
      "metadata": {
        "id": "rWs0wtVUkq9V"
      },
      "source": [
        "-  1.4.3 Encoding Project_grade_category\n"
      ]
    },
    {
      "cell_type": "code",
      "execution_count": 20,
      "metadata": {
        "colab": {
          "base_uri": "https://localhost:8080/"
        },
        "id": "KCp6ya2skq9V",
        "outputId": "c87d25d3-1fb3-40b1-9ec9-ffca0b291f21"
      },
      "outputs": [
        {
          "output_type": "execute_result",
          "data": {
            "text/plain": [
              "CountVectorizer()"
            ]
          },
          "metadata": {},
          "execution_count": 20
        }
      ],
      "source": [
        "vectorizer = CountVectorizer()\n",
        "vectorizer.fit(X_train['project_grade_category'].values)"
      ]
    },
    {
      "cell_type": "code",
      "execution_count": 21,
      "metadata": {
        "colab": {
          "base_uri": "https://localhost:8080/"
        },
        "id": "7dzv3wGdkq9W",
        "outputId": "8db7386e-aa51-4759-8fc5-ea34669f4903"
      },
      "outputs": [
        {
          "output_type": "stream",
          "name": "stderr",
          "text": [
            "100%|██████████| 73196/73196 [00:00<00:00, 265594.28it/s]\n",
            "100%|██████████| 36052/36052 [00:00<00:00, 265783.11it/s]\n"
          ]
        }
      ],
      "source": [
        "X_train_grade_ohe = vectorizer.transform(tqdm(X_train['project_grade_category'].values))\n",
        "#X_cv_grade_ohe = vectorizer.transform(tqdm(X_cv['project_grade_category'].values))\n",
        "X_test_grade_ohe = vectorizer.transform(tqdm(X_test['project_grade_category'].values))\n"
      ]
    },
    {
      "cell_type": "markdown",
      "metadata": {
        "id": "a0Jm5gOYkq9X"
      },
      "source": [
        "- 1.4.4 Encoding clean_categories"
      ]
    },
    {
      "cell_type": "code",
      "execution_count": 22,
      "metadata": {
        "colab": {
          "base_uri": "https://localhost:8080/"
        },
        "id": "kcJIzcaMkq9X",
        "outputId": "cb55655a-280e-4322-f324-eb0b5448f267"
      },
      "outputs": [
        {
          "output_type": "execute_result",
          "data": {
            "text/plain": [
              "CountVectorizer()"
            ]
          },
          "metadata": {},
          "execution_count": 22
        }
      ],
      "source": [
        "vectorizer = CountVectorizer()\n",
        "vectorizer.fit(X_train['clean_categories'].values)"
      ]
    },
    {
      "cell_type": "code",
      "execution_count": 23,
      "metadata": {
        "colab": {
          "base_uri": "https://localhost:8080/"
        },
        "id": "TwNWhUSpkq9Y",
        "outputId": "f011109b-5a39-4f4d-80ac-8409f6b25790"
      },
      "outputs": [
        {
          "output_type": "stream",
          "name": "stderr",
          "text": [
            "100%|██████████| 73196/73196 [00:00<00:00, 253691.28it/s]\n",
            "100%|██████████| 36052/36052 [00:00<00:00, 256991.53it/s]\n"
          ]
        }
      ],
      "source": [
        "X_train_clean_categories_ohe = vectorizer.transform(tqdm(X_train['clean_categories'].values))\n",
        "#X_cv_clean_categories_ohe = vectorizer.transform(tqdm(X_cv['clean_categories'].values))\n",
        "X_test_clean_categories_ohe = vectorizer.transform(tqdm(X_test['clean_categories'].values))\n"
      ]
    },
    {
      "cell_type": "markdown",
      "metadata": {
        "id": "zQirXbqSkq9Y"
      },
      "source": [
        "- -----------------"
      ]
    },
    {
      "cell_type": "markdown",
      "metadata": {
        "id": "cUtCIrI3kq9Z"
      },
      "source": [
        "- 1.4.5 Encoding clean_subcategories"
      ]
    },
    {
      "cell_type": "code",
      "execution_count": 24,
      "metadata": {
        "colab": {
          "base_uri": "https://localhost:8080/"
        },
        "id": "-FLYfG5-kq9Z",
        "outputId": "fe73d5d6-9ff6-4d8b-f52b-538805e1c427"
      },
      "outputs": [
        {
          "output_type": "execute_result",
          "data": {
            "text/plain": [
              "CountVectorizer()"
            ]
          },
          "metadata": {},
          "execution_count": 24
        }
      ],
      "source": [
        "vectorizer = CountVectorizer()\n",
        "vectorizer.fit(X_train['clean_subcategories'].values)"
      ]
    },
    {
      "cell_type": "code",
      "execution_count": 25,
      "metadata": {
        "colab": {
          "base_uri": "https://localhost:8080/"
        },
        "id": "DJKJO2zukq9a",
        "outputId": "4de6d2ee-f5a4-4266-877f-25dc1400a42e"
      },
      "outputs": [
        {
          "output_type": "stream",
          "name": "stderr",
          "text": [
            "100%|██████████| 73196/73196 [00:00<00:00, 250197.65it/s]\n",
            "100%|██████████| 36052/36052 [00:00<00:00, 242743.68it/s]\n"
          ]
        }
      ],
      "source": [
        "X_train_clean_subcategories_ohe = vectorizer.transform(tqdm(X_train['clean_subcategories'].values))\n",
        "#X_cv_clean_subcategories_ohe = vectorizer.transform(tqdm(X_cv['clean_subcategories'].values))\n",
        "X_test_clean_subcategories_ohe = vectorizer.transform(tqdm(X_test['clean_subcategories'].values))\n"
      ]
    },
    {
      "cell_type": "markdown",
      "metadata": {
        "id": "ZHS7qxtbkq9a"
      },
      "source": [
        "--------------------------------------------------"
      ]
    },
    {
      "cell_type": "markdown",
      "metadata": {
        "id": "ymaF0Ndokq9b"
      },
      "source": [
        "- 1.4.6 Encoding teacher_number_of_previously_posted_projects\t"
      ]
    },
    {
      "cell_type": "code",
      "execution_count": 26,
      "metadata": {
        "colab": {
          "base_uri": "https://localhost:8080/"
        },
        "id": "5dB_zR7-kq9b",
        "outputId": "e1676e69-fb36-4a2a-cc5b-a707a9e5b673"
      },
      "outputs": [
        {
          "output_type": "execute_result",
          "data": {
            "text/plain": [
              "Normalizer(norm='l1')"
            ]
          },
          "metadata": {},
          "execution_count": 26
        }
      ],
      "source": [
        "normalizer= Normalizer(norm='l1')\n",
        "normalizer.fit(X_train['teacher_number_of_previously_posted_projects'].values.reshape(-1,1))"
      ]
    },
    {
      "cell_type": "code",
      "execution_count": 27,
      "metadata": {
        "id": "Ve22Pay2kq9c"
      },
      "outputs": [],
      "source": [
        "X_train_previous_posted_norm = normalizer.transform(X_train['teacher_number_of_previously_posted_projects'].values.reshape(-1,1))\n",
        "#X_cv_previous_posted_norm = normalizer.transform(X_cv['teacher_number_of_previously_posted_projects'].values.reshape(-1,1))\n",
        "X_test_previous_posted_norm = normalizer.transform(X_test['teacher_number_of_previously_posted_projects'].values.reshape(-1,1))"
      ]
    },
    {
      "cell_type": "markdown",
      "metadata": {
        "id": "iTS32_uqkq9c"
      },
      "source": [
        "-------------------------------------------------------------------"
      ]
    },
    {
      "cell_type": "markdown",
      "metadata": {
        "id": "tfC85llbkq9d"
      },
      "source": [
        "- 1.4.7 Encoding Price"
      ]
    },
    {
      "cell_type": "code",
      "execution_count": 28,
      "metadata": {
        "colab": {
          "base_uri": "https://localhost:8080/"
        },
        "id": "N9_oz95rkq9d",
        "outputId": "9fe0a3c5-ec75-430c-d6bc-a328a9c1014f"
      },
      "outputs": [
        {
          "output_type": "execute_result",
          "data": {
            "text/plain": [
              "Normalizer(norm='l1')"
            ]
          },
          "metadata": {},
          "execution_count": 28
        }
      ],
      "source": [
        "normalizer= Normalizer(norm='l1')\n",
        "normalizer.fit(X_train['price'].values.reshape(-1,1))"
      ]
    },
    {
      "cell_type": "code",
      "execution_count": 29,
      "metadata": {
        "id": "2RM48RPakq9e"
      },
      "outputs": [],
      "source": [
        "X_train_price_norm = normalizer.transform(X_train['price'].values.reshape(-1,1))\n",
        "#X_cv_price_norm = normalizer.transform(X_cv['price'].values.reshape(-1,1))\n",
        "X_test_price_norm = normalizer.transform(X_test['price'].values.reshape(-1,1))\n"
      ]
    },
    {
      "cell_type": "markdown",
      "metadata": {
        "id": "f8et19iGkq9e"
      },
      "source": [
        "-------------------"
      ]
    },
    {
      "cell_type": "markdown",
      "metadata": {
        "id": "KmZni6zHkq9e"
      },
      "source": [
        "- CONCATINATING"
      ]
    },
    {
      "cell_type": "code",
      "execution_count": 30,
      "metadata": {
        "id": "z8JD8hcCkq9f"
      },
      "outputs": [],
      "source": [
        "X_tr=hstack((X_train_state_ohe,X_train_teacher_ohe,X_train_grade_ohe, X_train_previous_posted_norm, \n",
        "             X_train_clean_categories_ohe,X_train_clean_subcategories_ohe, X_train_bow_essay,X_train_price_norm\n",
        "            )).tocsr()\n",
        "\n",
        "\n",
        "#X_crossv=hstack((X_cv_state_ohe,X_cv_teacher_ohe,X_cv_grade_ohe,X_cv_previous_posted_norm,\n",
        "            # X_cv_clean_categories_ohe, X_cv_clean_subcategories_ohe, X_cv_bow_essay,X_cv_price_norm\n",
        "           # )).tocsr()\n",
        "\n",
        "\n",
        "X_te=hstack((X_test_state_ohe,X_test_teacher_ohe,X_test_grade_ohe,X_test_previous_posted_norm,\n",
        "              X_test_clean_categories_ohe,X_test_clean_subcategories_ohe,X_test_bow_essay,X_test_price_norm\n",
        "              )).tocsr()"
      ]
    },
    {
      "cell_type": "code",
      "execution_count": 31,
      "metadata": {
        "colab": {
          "base_uri": "https://localhost:8080/"
        },
        "id": "RGW0xcz6kq9f",
        "outputId": "a48af53f-ca79-4a01-bd13-8fbbafc4785d"
      },
      "outputs": [
        {
          "output_type": "stream",
          "name": "stdout",
          "text": [
            "(73196, 10101) (73196,)\n",
            "(36052, 10101) (36052,)\n"
          ]
        }
      ],
      "source": [
        "\n",
        "\n",
        "print(X_tr.shape, y_train.shape)\n",
        "#print(X_crossv.shape, y_cv.shape)\n",
        "print(X_te.shape,y_test.shape)"
      ]
    },
    {
      "cell_type": "markdown",
      "metadata": {
        "id": "LaAkuooVkq9g"
      },
      "source": [
        "-------------------------------------------------"
      ]
    },
    {
      "cell_type": "markdown",
      "metadata": {
        "id": "yYHPYadYb3dh"
      },
      "source": [
        "<h2>1.5 Appling NB on different kind of featurization as mentioned in the instructions</h2>\n",
        "\n",
        "<br>Apply NB on different kind of featurization as mentioned in the instructions\n",
        "<br> For Every model that you work on make sure you do the step 2 and step 3 of instrucations"
      ]
    },
    {
      "cell_type": "code",
      "execution_count": 32,
      "metadata": {
        "id": "DNwqilFxb3di"
      },
      "outputs": [],
      "source": [
        "# please write all the code with proper documentation, and proper titles for each subsection\n",
        "# go through documentations and blogs before you start coding\n",
        "# first figure out what to do, and then think about how to do.\n",
        "# reading and understanding error messages will be very much helpfull in debugging your code\n",
        "# when you plot any graph make sure you use \n",
        "    # a. Title, that describes your plot, this will be very helpful to the reader\n",
        "    # b. Legends if needed\n",
        "    # c. X-axis label\n",
        "    # d. Y-axis label"
      ]
    },
    {
      "cell_type": "code",
      "execution_count": 33,
      "metadata": {
        "scrolled": false,
        "colab": {
          "base_uri": "https://localhost:8080/"
        },
        "id": "q1klqptHkq9i",
        "outputId": "e5c515f5-7e0b-4122-af22-42bbac9e7300"
      },
      "outputs": [
        {
          "output_type": "execute_result",
          "data": {
            "text/plain": [
              "RandomizedSearchCV(cv=10,\n",
              "                   estimator=MultinomialNB(class_prior=[0.5, 0.5],\n",
              "                                           fit_prior=False),\n",
              "                   n_jobs=-1,\n",
              "                   param_distributions={'alpha': [1e-05, 0.0005, 0.0001, 0.005,\n",
              "                                                  0.001, 0.05, 0.01, 0.1, 0.5,\n",
              "                                                  1, 5, 10, 50, 100],\n",
              "                                        'class_prior': [[0.1, 0.9], [0.2, 0.8],\n",
              "                                                        [0.3, 0.7], [0.4, 0.6],\n",
              "                                                        [0.5, 0.5],\n",
              "                                                        [0.6, 0.4]]},\n",
              "                   return_train_score=True, scoring='roc_auc')"
            ]
          },
          "metadata": {},
          "execution_count": 33
        }
      ],
      "source": [
        "classifier= MultinomialNB(fit_prior=False, class_prior=[0.5,0.5])\n",
        "parameters={'alpha':[0.00001,0.0005, 0.0001,0.005,0.001,0.05,0.01,0.1,0.5,1,5,10,50,100],\n",
        "             'class_prior':[[0.1,0.9],[0.2,0.8],[0.3,0.7],[0.4,0.6],[0.5,0.5],[0.6,0.4]]  \n",
        "           }\n",
        "\n",
        "clf= RandomizedSearchCV(classifier,parameters,cv=10,scoring='roc_auc', return_train_score=True, n_jobs=-1)\n",
        "clf.fit(X_tr,y_train)"
      ]
    },
    {
      "cell_type": "code",
      "execution_count": 33,
      "metadata": {
        "id": "zKq5lVB0kq9i"
      },
      "outputs": [],
      "source": [
        ""
      ]
    },
    {
      "cell_type": "code",
      "execution_count": 34,
      "metadata": {
        "colab": {
          "base_uri": "https://localhost:8080/"
        },
        "id": "yfUgmUL0kq9i",
        "outputId": "1f174b0c-c01e-4057-cfc8-5e40ec6ed4e7"
      },
      "outputs": [
        {
          "output_type": "execute_result",
          "data": {
            "text/plain": [
              "{'alpha': 1e-05, 'class_prior': [0.2, 0.8]}"
            ]
          },
          "metadata": {},
          "execution_count": 34
        }
      ],
      "source": [
        "clf.best_params_"
      ]
    },
    {
      "cell_type": "code",
      "execution_count": 34,
      "metadata": {
        "id": "fdwlWJQBkq9j"
      },
      "outputs": [],
      "source": [
        ""
      ]
    },
    {
      "cell_type": "code",
      "execution_count": 34,
      "metadata": {
        "id": "487rMfb3kq9j"
      },
      "outputs": [],
      "source": [
        ""
      ]
    },
    {
      "cell_type": "code",
      "execution_count": 35,
      "metadata": {
        "colab": {
          "base_uri": "https://localhost:8080/",
          "height": 295
        },
        "id": "0ceHFm9pkq9j",
        "outputId": "33fadaf8-646c-45e2-9272-ebc4d2f4308d"
      },
      "outputs": [
        {
          "output_type": "display_data",
          "data": {
            "image/png": "[encoded data removed]",
            "text/plain": [
              "<Figure size 432x288 with 1 Axes>"
            ]
          },
          "metadata": {
            "needs_background": "light"
          }
        }
      ],
      "source": [
        "\n",
        "results = pd.DataFrame.from_dict(clf.cv_results_)\n",
        "results = results.sort_values(['param_alpha'])\n",
        "\n",
        "train_auc= results['mean_train_score']\n",
        "train_auc_std= results['std_train_score']\n",
        "cv_auc = results['mean_test_score'] \n",
        "cv_auc_std= results['std_test_score']\n",
        "K =  results['param_alpha']\n",
        "\n",
        "\n",
        "\n",
        "log=[]\n",
        "for i in K:\n",
        "    loga=math.log(i)\n",
        "    log.append(loga)\n",
        "    \n",
        "\n",
        "plt.plot(log, train_auc, label='Train AUC')\n",
        "# this code is copied from here: https://stackoverflow.com/a/48803361/4084039\n",
        "# plt.gca().fill_between(K, train_auc - train_auc_std,train_auc + train_auc_std,alpha=0.2,color='darkblue')\n",
        "\n",
        "plt.plot(log, cv_auc, label='CV AUC')\n",
        "# this code is copied from here: https://stackoverflow.com/a/48803361/4084039\n",
        "# plt.gca().fill_between(K, cv_auc - cv_auc_std,cv_auc + cv_auc_std,alpha=0.2,color='darkorange')\n",
        "\n",
        "plt.scatter(log, train_auc, label='Train AUC points')\n",
        "plt.scatter(log, cv_auc, label='CV AUC points')\n",
        "\n",
        "\n",
        "plt.legend()\n",
        "plt.xlabel(\"K: hyperparameter\")\n",
        "plt.ylabel(\"AUC\")\n",
        "plt.title(\"Hyper parameter Vs AUC plot\")\n",
        "plt.grid()\n",
        "plt.show()\n"
      ]
    },
    {
      "cell_type": "markdown",
      "metadata": {
        "id": "0owTMUgmkq9k"
      },
      "source": [
        "--------------------------"
      ]
    },
    {
      "cell_type": "markdown",
      "metadata": {
        "id": "VZ8Kowjwkq9k"
      },
      "source": [
        "# Training the Model with best Hyperparameter"
      ]
    },
    {
      "cell_type": "code",
      "execution_count": 68,
      "metadata": {
        "colab": {
          "base_uri": "https://localhost:8080/"
        },
        "id": "DdwOp2Bskq9l",
        "outputId": "b2456a10-531f-4bf9-9ff5-8c1934ec0a41"
      },
      "outputs": [
        {
          "output_type": "execute_result",
          "data": {
            "text/plain": [
              "MultinomialNB(alpha=1e-05, class_prior=[0.2, 0.8], fit_prior=False)"
            ]
          },
          "metadata": {},
          "execution_count": 68
        }
      ],
      "source": [
        "Classifier=MultinomialNB(alpha=1e-05,class_prior=[0.2,0.8], fit_prior=False)\n",
        "Classifier.fit(X_tr, y_train)\n"
      ]
    },
    {
      "cell_type": "code",
      "execution_count": 69,
      "metadata": {
        "id": "r8-FbPVhkq9m"
      },
      "outputs": [],
      "source": [
        "y_train_pred=Classifier.predict_proba(X_tr)[:,1]\n",
        "y_test_pred=Classifier.predict_proba(X_te)[:,1]"
      ]
    },
    {
      "cell_type": "code",
      "execution_count": 70,
      "metadata": {
        "id": "Z4nHs25Hkq9n"
      },
      "outputs": [],
      "source": [
        "\n",
        "train_fpr, train_tpr, tr_threshold= roc_curve(y_train, y_train_pred)\n",
        "test_fpr, test_tpr, te_threshold = roc_curve(y_test, y_test_pred)"
      ]
    },
    {
      "cell_type": "code",
      "execution_count": 71,
      "metadata": {
        "colab": {
          "base_uri": "https://localhost:8080/",
          "height": 295
        },
        "id": "oapLLEuIkq9o",
        "outputId": "a5d8c7c4-288f-4943-86a4-0e684aef2b34"
      },
      "outputs": [
        {
          "output_type": "display_data",
          "data": {
            "image/png": "[encoded data removed]",
            "text/plain": [
              "<Figure size 432x288 with 1 Axes>"
            ]
          },
          "metadata": {
            "needs_background": "light"
          }
        }
      ],
      "source": [
        "plt.plot(train_fpr, train_tpr, label=\"train AUC =\"+str(auc(train_fpr, train_tpr)))\n",
        "plt.plot(test_fpr, test_tpr, label=\"test AUC =\"+str(auc(test_fpr, test_tpr)))\n",
        "plt.legend()\n",
        "plt.xlabel(\"FPR\")\n",
        "plt.ylabel(\"TPR\")\n",
        "plt.title(\"ERROR PLOTS\")\n",
        "plt.grid()\n",
        "plt.show()"
      ]
    },
    {
      "cell_type": "code",
      "execution_count": 72,
      "metadata": {
        "id": "U6BKYUJ-kq9p"
      },
      "outputs": [],
      "source": [
        "def find_best_threshold(threshould, fpr, tpr):\n",
        "    t = threshould[np.argmax(tpr*(1-fpr))]\n",
        "    # (tpr*(1-fpr)) will be maximum if your fpr is very low and tpr is very high\n",
        "    print(\"the maximum value of tpr*(1-fpr)\", max(tpr*(1-fpr)), \"for threshold\", np.round(t,3))\n",
        "    return t\n",
        "\n",
        "def predict_with_best_t(proba, threshould):\n",
        "    predictions = []\n",
        "    for i in proba:\n",
        "        if i>=threshould:\n",
        "            predictions.append(1)\n",
        "        else:\n",
        "            predictions.append(0)\n",
        "    return predictions"
      ]
    },
    {
      "cell_type": "code",
      "execution_count": 73,
      "metadata": {
        "colab": {
          "base_uri": "https://localhost:8080/"
        },
        "id": "zzYLj20Zkq9q",
        "outputId": "d70932d4-bb65-499f-fe12-264ab3283fb4"
      },
      "outputs": [
        {
          "output_type": "stream",
          "name": "stdout",
          "text": [
            "the maximum value of tpr*(1-fpr) 0.4551574372606127 for threshold 0.82\n"
          ]
        }
      ],
      "source": [
        "best_t = find_best_threshold(tr_threshold, train_fpr, train_tpr)\n"
      ]
    },
    {
      "cell_type": "code",
      "execution_count": 74,
      "metadata": {
        "id": "9xd2_Frakq9q"
      },
      "outputs": [],
      "source": [
        "cm_train=confusion_matrix(y_train,predict_with_best_t(y_train_pred, best_t))"
      ]
    },
    {
      "cell_type": "code",
      "execution_count": 75,
      "metadata": {
        "colab": {
          "base_uri": "https://localhost:8080/"
        },
        "id": "pJzZ8bkZkq9r",
        "outputId": "9dc7e496-f2b1-4ff5-c754-82a1b6dc520e"
      },
      "outputs": [
        {
          "output_type": "execute_result",
          "data": {
            "text/plain": [
              "array([[ 7642,  3441],\n",
              "       [21112, 41001]])"
            ]
          },
          "metadata": {},
          "execution_count": 75
        }
      ],
      "source": [
        "cm_train"
      ]
    },
    {
      "cell_type": "code",
      "execution_count": 75,
      "metadata": {
        "id": "BFmExIt-kq9r"
      },
      "outputs": [],
      "source": [
        ""
      ]
    },
    {
      "cell_type": "code",
      "execution_count": 76,
      "metadata": {
        "id": "nVgNfh8fkq9s"
      },
      "outputs": [],
      "source": [
        "cm_test=confusion_matrix(y_test, predict_with_best_t(y_test_pred,best_t))"
      ]
    },
    {
      "cell_type": "code",
      "execution_count": 77,
      "metadata": {
        "colab": {
          "base_uri": "https://localhost:8080/"
        },
        "id": "MXh_LI67kq9s",
        "outputId": "d417cfe7-b1ee-4d56-d90a-06bc7ecca15f"
      },
      "outputs": [
        {
          "output_type": "execute_result",
          "data": {
            "text/plain": [
              "array([[ 3503,  1956],\n",
              "       [10571, 20022]])"
            ]
          },
          "metadata": {},
          "execution_count": 77
        }
      ],
      "source": [
        "cm_test"
      ]
    },
    {
      "cell_type": "code",
      "execution_count": 77,
      "metadata": {
        "id": "9syVeCw7kq9t"
      },
      "outputs": [],
      "source": [
        ""
      ]
    },
    {
      "cell_type": "code",
      "execution_count": 78,
      "metadata": {
        "id": "hq0bp0Etkq9t"
      },
      "outputs": [],
      "source": [
        "def confusion_matrix_train_data(cm):\n",
        "    ax= plt.subplot();\n",
        "    sns.heatmap(cm,annot=True,cmap='Blues',ax=ax);\n",
        "    # labels, title and ticks\n",
        "    ax.set_xlabel('Predicted labels');ax.set_ylabel('True labels'); \n",
        "    ax.set_ylim(2.0, 0)\n",
        "    ax.set_title('Confusion Matrix Train Data');\n",
        "    ax.xaxis.set_ticklabels(['No','Yes']); \n",
        "    ax.yaxis.set_ticklabels(['No','Yes']);"
      ]
    },
    {
      "cell_type": "code",
      "execution_count": 79,
      "metadata": {
        "colab": {
          "base_uri": "https://localhost:8080/",
          "height": 295
        },
        "id": "fegn7_sykq9t",
        "outputId": "ba551e32-f7ec-47a1-d010-4132de2964a6"
      },
      "outputs": [
        {
          "output_type": "display_data",
          "data": {
            "image/png": "[encoded data removed]",
            "text/plain": [
              "<Figure size 432x288 with 2 Axes>"
            ]
          },
          "metadata": {
            "needs_background": "light"
          }
        }
      ],
      "source": [
        "confusion_matrix_train_data(cm_train)"
      ]
    },
    {
      "cell_type": "code",
      "execution_count": 80,
      "metadata": {
        "colab": {
          "base_uri": "https://localhost:8080/"
        },
        "id": "kxWcQ6wDkq9u",
        "outputId": "246cd7f5-5448-4ec7-a2f3-600deb04dec2"
      },
      "outputs": [
        {
          "output_type": "execute_result",
          "data": {
            "text/plain": [
              "array([[ 7642,  3441],\n",
              "       [21112, 41001]])"
            ]
          },
          "metadata": {},
          "execution_count": 80
        }
      ],
      "source": [
        "cm_train"
      ]
    },
    {
      "cell_type": "code",
      "execution_count": 81,
      "metadata": {
        "id": "4Wwgxcoykq9u"
      },
      "outputs": [],
      "source": [
        "def confusion_matrix_test_data(cm):\n",
        "    ax= plt.subplot();\n",
        "    sns.heatmap(cm,annot=True,cmap='Blues',ax=ax);\n",
        "    # labels, title and ticks\n",
        "    ax.set_xlabel('Predicted labels');ax.set_ylabel('True labels'); \n",
        "    ax.set_ylim(2.0, 0)\n",
        "    ax.set_title('Confusion Matrix Test Data');\n",
        "    ax.xaxis.set_ticklabels(['No','Yes']); \n",
        "    ax.yaxis.set_ticklabels(['No','Yes']);"
      ]
    },
    {
      "cell_type": "code",
      "execution_count": 82,
      "metadata": {
        "colab": {
          "base_uri": "https://localhost:8080/",
          "height": 295
        },
        "id": "cs4GGszDkq9u",
        "outputId": "bdf3292d-5315-4484-c6c2-d286f3b62f75"
      },
      "outputs": [
        {
          "output_type": "display_data",
          "data": {
            "image/png": "[encoded data removed]",
            "text/plain": [
              "<Figure size 432x288 with 2 Axes>"
            ]
          },
          "metadata": {
            "needs_background": "light"
          }
        }
      ],
      "source": [
        "confusion_matrix_test_data(cm_test)\n"
      ]
    },
    {
      "cell_type": "code",
      "execution_count": 84,
      "metadata": {
        "colab": {
          "base_uri": "https://localhost:8080/"
        },
        "id": "nE1htwl7kq9v",
        "outputId": "b3a0c0c0-647d-46ca-f9cf-7463537e40c7"
      },
      "outputs": [
        {
          "output_type": "stream",
          "name": "stdout",
          "text": [
            "+------------+-------------------------+-----------------------+-------------+-----------+\n",
            "| Vectorizer |          Model          | Alpha:Hyper Parameter | class_prior |  Test AUC |\n",
            "+------------+-------------------------+-----------------------+-------------+-----------+\n",
            "|    BOW     | Multonomial Naive Bayes |         0.0005        |  [0.3, 0.7] |    0.69   |\n",
            "|   TFIDF    | Multinomial Naive Bayes |         0.001         |  [0.3, 0.7] |    0.68   |\n",
            "+------------+-------------------------+-----------------------+-------------+-----------+\n"
          ]
        }
      ],
      "source": [
        "from prettytable import PrettyTable\n",
        "\n",
        "#If you get a ModuleNotFoundError error , install prettytable using: pip3 install prettytable\n",
        "\n",
        "x = PrettyTable()\n",
        "x.field_names = [\"Vectorizer\", \"Model\", \"Alpha:Hyper Parameter\",'class_prior', \" Test AUC\"]\n",
        "\n",
        "x.add_row([\"BOW\", \"Multonomial Naive Bayes\", 0.0005,[0.3,0.7], 0.69])\n",
        "x.add_row([\"TFIDF\", \"Multinomial Naive Bayes\", 0.001,[0.3,0.7], 0.68ew])\n",
        "\n",
        "print(x)"
      ]
    },
    {
      "cell_type": "code",
      "execution_count": 83,
      "metadata": {
        "id": "RfGHGqRfkq9v"
      },
      "outputs": [],
      "source": [
        ""
      ]
    },
    {
      "cell_type": "code",
      "execution_count": 83,
      "metadata": {
        "id": "EZ3u9o6Bkq9w"
      },
      "outputs": [],
      "source": [
        ""
      ]
    }
  ],
  "metadata": {
    "colab": {
      "collapsed_sections": [],
      "name": "Multinomial_NB_(BOW) (1).ipynb",
      "provenance": []
    },
    "kernelspec": {
      "display_name": "Python 3",
      "language": "python",
      "name": "python3"
    },
    "language_info": {
      "codemirror_mode": {
        "name": "ipython",
        "version": 3
      },
      "file_extension": ".py",
      "mimetype": "text/x-python",
      "name": "python",
      "nbconvert_exporter": "python",
      "pygments_lexer": "ipython3",
      "version": "3.8.8"
    }
  },
  "nbformat": 4,
  "nbformat_minor": 0
}