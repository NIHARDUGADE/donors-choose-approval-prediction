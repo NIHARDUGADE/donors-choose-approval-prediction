{
  "cells": [
    {
      "cell_type": "code",
      "execution_count": 1,
      "id": "e3df8f38",
      "metadata": {
        "id": "e3df8f38"
      },
      "outputs": [],
      "source": [
        "%matplotlib inline\n",
        "import warnings\n",
        "warnings.filterwarnings(\"ignore\")\n",
        "\n",
        "import pandas as pd\n",
        "import numpy as np\n",
        "import nltk\n",
        "import matplotlib.pyplot as plt\n",
        "import seaborn as sns\n",
        "from sklearn.feature_extraction.text import TfidfVectorizer\n",
        "from sklearn.feature_extraction.text import CountVectorizer\n",
        "from sklearn.metrics import confusion_matrix\n",
        "from sklearn import metrics\n",
        "from sklearn.metrics import roc_curve, auc\n",
        "\n",
        "import re\n",
        "# Tutorial about Python regular expressions: https://pymotw.com/2/re/\n",
        "\n",
        "import pickle\n",
        "from tqdm import tqdm\n",
        "import os\n",
        "from collections import Counter\n",
        "from sklearn.model_selection import train_test_split\n",
        "from sklearn.preprocessing import Normalizer\n",
        "from scipy.sparse import hstack\n",
        "from sklearn.naive_bayes import MultinomialNB\n",
        "from sklearn.model_selection import RandomizedSearchCV\n",
        "import math\n",
        "from sklearn.feature_extraction.text import TfidfVectorizer\n",
        "from sklearn.metrics import f1_score , accuracy_score\n",
        "\n"
      ]
    },
    {
      "cell_type": "code",
      "source": [
        "from google.colab import drive\n",
        "drive.mount('/content/drive')"
      ],
      "metadata": {
        "colab": {
          "base_uri": "https://localhost:8080/"
        },
        "id": "uL5_4qd9Dy4B",
        "outputId": "a4389f39-a310-4e8f-cb46-a7a6ca49bbb5"
      },
      "id": "uL5_4qd9Dy4B",
      "execution_count": 2,
      "outputs": [
        {
          "output_type": "stream",
          "name": "stdout",
          "text": [
            "Mounted at /content/drive\n"
          ]
        }
      ]
    },
    {
      "cell_type": "code",
      "execution_count": 3,
      "id": "bb31f263",
      "metadata": {
        "id": "bb31f263"
      },
      "outputs": [],
      "source": [
        "data=pd.read_csv('/content/drive/MyDrive/DT on donors choose/preprocessed_data.csv')"
      ]
    },
    {
      "cell_type": "code",
      "execution_count": 4,
      "id": "cf03d6e9",
      "metadata": {
        "id": "cf03d6e9"
      },
      "outputs": [],
      "source": [
        "y=data['project_is_approved']\n",
        "X=data.drop(['project_is_approved'], axis=1)"
      ]
    },
    {
      "cell_type": "code",
      "execution_count": 5,
      "id": "67b9b02a",
      "metadata": {
        "id": "67b9b02a"
      },
      "outputs": [],
      "source": [
        "X_train, X_test, y_train, y_test = train_test_split(X, y, test_size=0.33, stratify=y)"
      ]
    },
    {
      "cell_type": "code",
      "execution_count": 5,
      "id": "1c87c839",
      "metadata": {
        "id": "1c87c839"
      },
      "outputs": [],
      "source": [
        ""
      ]
    },
    {
      "cell_type": "code",
      "execution_count": 7,
      "id": "ea06b449",
      "metadata": {
        "colab": {
          "base_uri": "https://localhost:8080/"
        },
        "id": "ea06b449",
        "outputId": "16f0055a-c796-4714-f7b3-fc9cfd0f6bca"
      },
      "outputs": [
        {
          "output_type": "execute_result",
          "data": {
            "text/plain": [
              "TfidfVectorizer(max_features=5000, min_df=10, ngram_range=(1, 4))"
            ]
          },
          "metadata": {},
          "execution_count": 7
        }
      ],
      "source": [
        "vectorizer_essay=TfidfVectorizer(ngram_range=(1,4), min_df=10, max_features=5000)\n",
        "vectorizer_essay.fit(X_train['essay'].values)"
      ]
    },
    {
      "cell_type": "code",
      "execution_count": 8,
      "id": "ecbc3ff8",
      "metadata": {
        "colab": {
          "base_uri": "https://localhost:8080/"
        },
        "id": "ecbc3ff8",
        "outputId": "710a3ad2-eaba-41c2-814c-6228a76f9962"
      },
      "outputs": [
        {
          "output_type": "stream",
          "name": "stderr",
          "text": [
            "100%|██████████| 73196/73196 [00:51<00:00, 1416.48it/s]\n",
            "100%|██████████| 36052/36052 [00:23<00:00, 1512.75it/s]\n"
          ]
        }
      ],
      "source": [
        "X_train_bow_essay= vectorizer_essay.transform(tqdm(X_train['essay'].values))\n",
        "#X_cv_bow_essay=vectorizer.transform(tqdm(X_cv['essay'].values))\n",
        "X_test_bow_essay=vectorizer_essay.transform(tqdm(X_test['essay'].values))"
      ]
    },
    {
      "cell_type": "code",
      "execution_count": 8,
      "id": "81645531",
      "metadata": {
        "id": "81645531"
      },
      "outputs": [],
      "source": [
        ""
      ]
    },
    {
      "cell_type": "markdown",
      "id": "629d4c76",
      "metadata": {
        "id": "629d4c76"
      },
      "source": [
        "# featurizing numerical, categorical features"
      ]
    },
    {
      "cell_type": "code",
      "execution_count": 9,
      "id": "56ea6141",
      "metadata": {
        "colab": {
          "base_uri": "https://localhost:8080/"
        },
        "id": "56ea6141",
        "outputId": "9bae59f5-3d56-4308-8481-9c1b11f6ce48"
      },
      "outputs": [
        {
          "output_type": "execute_result",
          "data": {
            "text/plain": [
              "CountVectorizer()"
            ]
          },
          "metadata": {},
          "execution_count": 9
        }
      ],
      "source": [
        "vectorizer_school_state= CountVectorizer()\n",
        "vectorizer_school_state.fit(X_train['school_state'].values) # fit has to happen only on train data\n"
      ]
    },
    {
      "cell_type": "code",
      "execution_count": 9,
      "id": "24013ca2",
      "metadata": {
        "id": "24013ca2"
      },
      "outputs": [],
      "source": [
        ""
      ]
    },
    {
      "cell_type": "code",
      "execution_count": 10,
      "id": "6b186cd4",
      "metadata": {
        "colab": {
          "base_uri": "https://localhost:8080/"
        },
        "id": "6b186cd4",
        "outputId": "fd106400-132d-4cb4-ba23-904b85295ba3"
      },
      "outputs": [
        {
          "output_type": "stream",
          "name": "stderr",
          "text": [
            "100%|██████████| 73196/73196 [00:00<00:00, 252538.52it/s]\n",
            "100%|██████████| 36052/36052 [00:00<00:00, 272335.72it/s]\n"
          ]
        }
      ],
      "source": [
        "X_train_state_ohe = vectorizer_school_state.transform(tqdm(X_train['school_state'].values))\n",
        "#X_cv_state_ohe = vectorizer.transform(tqdm(X_cv['school_state'].values))\n",
        "X_test_state_ohe = vectorizer_school_state.transform(tqdm(X_test['school_state'].values))"
      ]
    },
    {
      "cell_type": "markdown",
      "id": "df6cd3bc",
      "metadata": {
        "id": "df6cd3bc"
      },
      "source": [
        "------------"
      ]
    },
    {
      "cell_type": "code",
      "execution_count": 11,
      "id": "1f823234",
      "metadata": {
        "colab": {
          "base_uri": "https://localhost:8080/"
        },
        "id": "1f823234",
        "outputId": "3a9306cf-fbb8-4a1b-fbdf-8d36e3494c4a"
      },
      "outputs": [
        {
          "output_type": "execute_result",
          "data": {
            "text/plain": [
              "CountVectorizer()"
            ]
          },
          "metadata": {},
          "execution_count": 11
        }
      ],
      "source": [
        "vectorizer_teacher_prefix=CountVectorizer()\n",
        "vectorizer_teacher_prefix.fit(X_train['teacher_prefix'].values) # fit has to happen only on train data\n",
        "\n",
        "# we use the fitted CountVectorizer to convert the text to vector\n",
        "\n",
        "\n"
      ]
    },
    {
      "cell_type": "code",
      "execution_count": 12,
      "id": "4a956f94",
      "metadata": {
        "colab": {
          "base_uri": "https://localhost:8080/"
        },
        "id": "4a956f94",
        "outputId": "f369cb41-afd2-4211-ce19-491b60f4fa2d"
      },
      "outputs": [
        {
          "output_type": "stream",
          "name": "stderr",
          "text": [
            "100%|██████████| 73196/73196 [00:00<00:00, 248115.15it/s]\n",
            "100%|██████████| 36052/36052 [00:00<00:00, 259238.07it/s]\n"
          ]
        }
      ],
      "source": [
        "X_train_teacher_ohe = vectorizer_teacher_prefix.transform(tqdm(X_train['teacher_prefix'].values))\n",
        "#X_cv_teacher_ohe = vectorizer.transform(tqdm(X_cv['teacher_prefix'].values))\n",
        "X_test_teacher_ohe = vectorizer_teacher_prefix.transform(tqdm(X_test['teacher_prefix'].values))"
      ]
    },
    {
      "cell_type": "markdown",
      "id": "1b9655c4",
      "metadata": {
        "id": "1b9655c4"
      },
      "source": [
        "----------"
      ]
    },
    {
      "cell_type": "code",
      "execution_count": 13,
      "id": "c59759c4",
      "metadata": {
        "colab": {
          "base_uri": "https://localhost:8080/"
        },
        "id": "c59759c4",
        "outputId": "66af3921-6370-4a8a-8d1b-a18e741c2b4f"
      },
      "outputs": [
        {
          "output_type": "execute_result",
          "data": {
            "text/plain": [
              "CountVectorizer()"
            ]
          },
          "metadata": {},
          "execution_count": 13
        }
      ],
      "source": [
        "vectorizer_project_grade_category = CountVectorizer()\n",
        "vectorizer_project_grade_category.fit(X_train['project_grade_category'].values)"
      ]
    },
    {
      "cell_type": "code",
      "execution_count": 14,
      "id": "32f7ee9d",
      "metadata": {
        "scrolled": true,
        "colab": {
          "base_uri": "https://localhost:8080/"
        },
        "id": "32f7ee9d",
        "outputId": "b7349deb-8267-46fe-a05a-09e76cdb2c9b"
      },
      "outputs": [
        {
          "output_type": "stream",
          "name": "stderr",
          "text": [
            "100%|██████████| 73196/73196 [00:00<00:00, 251001.35it/s]\n",
            "100%|██████████| 36052/36052 [00:00<00:00, 245620.07it/s]\n"
          ]
        }
      ],
      "source": [
        "X_train_grade_ohe = vectorizer_project_grade_category.transform(tqdm(X_train['project_grade_category'].values))\n",
        "#X_cv_grade_ohe = vectorizer.transform(tqdm(X_cv['project_grade_category'].values))\n",
        "X_test_grade_ohe = vectorizer_project_grade_category.transform(tqdm(X_test['project_grade_category'].values))"
      ]
    },
    {
      "cell_type": "code",
      "execution_count": 14,
      "id": "21f05a5d",
      "metadata": {
        "id": "21f05a5d"
      },
      "outputs": [],
      "source": [
        ""
      ]
    },
    {
      "cell_type": "markdown",
      "id": "1a0300c4",
      "metadata": {
        "id": "1a0300c4"
      },
      "source": [
        "------------------------"
      ]
    },
    {
      "cell_type": "code",
      "execution_count": 15,
      "id": "3c0dbf7b",
      "metadata": {
        "colab": {
          "base_uri": "https://localhost:8080/"
        },
        "id": "3c0dbf7b",
        "outputId": "fe4a04cf-4a6a-4710-9daa-cdde20d21109"
      },
      "outputs": [
        {
          "output_type": "execute_result",
          "data": {
            "text/plain": [
              "CountVectorizer()"
            ]
          },
          "metadata": {},
          "execution_count": 15
        }
      ],
      "source": [
        "vectorizer_clean_categories = CountVectorizer()\n",
        "vectorizer_clean_categories.fit(X_train['clean_categories'].values)"
      ]
    },
    {
      "cell_type": "code",
      "execution_count": 16,
      "id": "1506b41b",
      "metadata": {
        "colab": {
          "base_uri": "https://localhost:8080/"
        },
        "id": "1506b41b",
        "outputId": "87bcfa6c-1aa0-4184-c9f8-43c509f260db"
      },
      "outputs": [
        {
          "output_type": "stream",
          "name": "stderr",
          "text": [
            "100%|██████████| 73196/73196 [00:00<00:00, 223553.36it/s]\n",
            "100%|██████████| 36052/36052 [00:00<00:00, 233133.65it/s]\n"
          ]
        }
      ],
      "source": [
        "X_train_clean_categories_ohe = vectorizer_clean_categories.transform(tqdm(X_train['clean_categories'].values))\n",
        "#X_cv_clean_categories_ohe = vectorizer.transform(tqdm(X_cv['clean_categories'].values))\n",
        "X_test_clean_categories_ohe = vectorizer_clean_categories.transform(tqdm(X_test['clean_categories'].values))\n"
      ]
    },
    {
      "cell_type": "code",
      "execution_count": 16,
      "id": "9220bc5b",
      "metadata": {
        "id": "9220bc5b"
      },
      "outputs": [],
      "source": [
        ""
      ]
    },
    {
      "cell_type": "code",
      "execution_count": 17,
      "id": "d32ca3e9",
      "metadata": {
        "scrolled": true,
        "colab": {
          "base_uri": "https://localhost:8080/"
        },
        "id": "d32ca3e9",
        "outputId": "f77c6a6a-35fe-4a44-ba7d-88aafde78e2e"
      },
      "outputs": [
        {
          "output_type": "execute_result",
          "data": {
            "text/plain": [
              "CountVectorizer()"
            ]
          },
          "metadata": {},
          "execution_count": 17
        }
      ],
      "source": [
        "vectorizer_clean_sub =CountVectorizer()\n",
        "vectorizer_clean_sub.fit(X_train['clean_subcategories'].values)"
      ]
    },
    {
      "cell_type": "code",
      "execution_count": 18,
      "id": "0a559acb",
      "metadata": {
        "colab": {
          "base_uri": "https://localhost:8080/"
        },
        "id": "0a559acb",
        "outputId": "90a7b36e-8f5f-41aa-c0b4-643c2f5e4d0a"
      },
      "outputs": [
        {
          "output_type": "stream",
          "name": "stderr",
          "text": [
            "100%|██████████| 73196/73196 [00:00<00:00, 228421.17it/s]\n",
            "100%|██████████| 36052/36052 [00:00<00:00, 227081.40it/s]\n"
          ]
        }
      ],
      "source": [
        "X_train_clean_subcategories_ohe = vectorizer_clean_sub.transform(tqdm(X_train['clean_subcategories'].values))\n",
        "#X_cv_clean_subcategories_ohe = vectorizer.transform(tqdm(X_cv['clean_subcategories'].values))\n",
        "X_test_clean_subcategories_ohe = vectorizer_clean_sub.transform(tqdm(X_test['clean_subcategories'].values))\n"
      ]
    },
    {
      "cell_type": "code",
      "execution_count": 18,
      "id": "421c1905",
      "metadata": {
        "id": "421c1905"
      },
      "outputs": [],
      "source": [
        "\n"
      ]
    },
    {
      "cell_type": "code",
      "execution_count": 19,
      "id": "65bd81b0",
      "metadata": {
        "colab": {
          "base_uri": "https://localhost:8080/"
        },
        "id": "65bd81b0",
        "outputId": "18435480-236a-484c-ba69-027d39c509af"
      },
      "outputs": [
        {
          "output_type": "execute_result",
          "data": {
            "text/plain": [
              "Normalizer(norm='l1')"
            ]
          },
          "metadata": {},
          "execution_count": 19
        }
      ],
      "source": [
        "\n",
        "normalizer_teacher_number= Normalizer(norm='l1')\n",
        "normalizer_teacher_number.fit(X_train['teacher_number_of_previously_posted_projects'].values.reshape(-1,1))\n"
      ]
    },
    {
      "cell_type": "code",
      "execution_count": 20,
      "id": "44df41d3",
      "metadata": {
        "id": "44df41d3"
      },
      "outputs": [],
      "source": [
        "X_train_previous_posted_norm = normalizer_teacher_number.transform(X_train['teacher_number_of_previously_posted_projects'].values.reshape(-1,1))\n",
        "#X_cv_previous_posted_norm = normalizer.transform(X_cv['teacher_number_of_previously_posted_projects'].values.reshape(-1,1))\n",
        "X_test_previous_posted_norm = normalizer_teacher_number.transform(X_test['teacher_number_of_previously_posted_projects'].values.reshape(-1,1))"
      ]
    },
    {
      "cell_type": "code",
      "execution_count": 20,
      "id": "c97a4034",
      "metadata": {
        "id": "c97a4034"
      },
      "outputs": [],
      "source": [
        ""
      ]
    },
    {
      "cell_type": "code",
      "execution_count": 21,
      "id": "a2eecec8",
      "metadata": {
        "colab": {
          "base_uri": "https://localhost:8080/"
        },
        "id": "a2eecec8",
        "outputId": "69bff579-b4d3-43c2-c474-31c78203ac82"
      },
      "outputs": [
        {
          "output_type": "execute_result",
          "data": {
            "text/plain": [
              "Normalizer(norm='l1')"
            ]
          },
          "metadata": {},
          "execution_count": 21
        }
      ],
      "source": [
        "normalizer_price= Normalizer(norm='l1')\n",
        "normalizer_price.fit(X_train['price'].values.reshape(-1,1))"
      ]
    },
    {
      "cell_type": "code",
      "execution_count": 22,
      "id": "bdb172d5",
      "metadata": {
        "id": "bdb172d5"
      },
      "outputs": [],
      "source": [
        "X_train_price_norm = normalizer_price.transform(X_train['price'].values.reshape(-1,1))\n",
        "#X_cv_price_norm = normalizer.transform(X_cv['price'].values.reshape(-1,1))\n",
        "X_test_price_norm = normalizer_price.transform(X_test['price'].values.reshape(-1,1))\n"
      ]
    },
    {
      "cell_type": "code",
      "execution_count": 22,
      "id": "1d9f7574",
      "metadata": {
        "id": "1d9f7574"
      },
      "outputs": [],
      "source": [
        ""
      ]
    },
    {
      "cell_type": "code",
      "execution_count": 23,
      "id": "07f9481a",
      "metadata": {
        "id": "07f9481a"
      },
      "outputs": [],
      "source": [
        "X_tr=hstack((X_train_state_ohe,X_train_teacher_ohe,X_train_grade_ohe, X_train_previous_posted_norm, \n",
        "             X_train_clean_categories_ohe,X_train_clean_subcategories_ohe, X_train_bow_essay,X_train_price_norm\n",
        "            )).tocsr()\n",
        "\n",
        "\n",
        "#X_crossv=hstack((X_cv_state_ohe,X_cv_teacher_ohe,X_cv_grade_ohe,X_cv_previous_posted_norm,\n",
        "            # X_cv_clean_categories_ohe, X_cv_clean_subcategories_ohe, X_cv_bow_essay,X_cv_price_norm\n",
        "           # )).tocsr()\n",
        "\n",
        "\n",
        "X_te=hstack((X_test_state_ohe,X_test_teacher_ohe,X_test_grade_ohe,X_test_previous_posted_norm,\n",
        "              X_test_clean_categories_ohe,X_test_clean_subcategories_ohe,X_test_bow_essay,X_test_price_norm\n",
        "              )).tocsr()"
      ]
    },
    {
      "cell_type": "code",
      "execution_count": 24,
      "id": "bf26fbf3",
      "metadata": {
        "colab": {
          "base_uri": "https://localhost:8080/"
        },
        "id": "bf26fbf3",
        "outputId": "40fc845b-5c45-4d03-ef9e-0c9da2f41f01"
      },
      "outputs": [
        {
          "output_type": "stream",
          "name": "stdout",
          "text": [
            "(73196, 5101) (73196,)\n",
            "(36052, 5101) (36052,)\n"
          ]
        }
      ],
      "source": [
        "print(X_tr.shape, y_train.shape)\n",
        "#print(X_crossv.shape, y_cv.shape)\n",
        "print(X_te.shape,y_test.shape)"
      ]
    },
    {
      "cell_type": "code",
      "execution_count": 24,
      "id": "04683f14",
      "metadata": {
        "id": "04683f14"
      },
      "outputs": [],
      "source": [
        ""
      ]
    },
    {
      "cell_type": "markdown",
      "id": "e92b5852",
      "metadata": {
        "id": "e92b5852"
      },
      "source": [
        "# <h2>1.5 Appling NB on different kind of featurization as mentioned in the instructions</h2>\n",
        "\n",
        "<br>Apply NB on different kind of featurization as mentioned in the instructions\n",
        "<br> For Every model that you work on make sure you do the step 2 and step 3 of instrucations"
      ]
    },
    {
      "cell_type": "code",
      "execution_count": 24,
      "id": "baa6faa4",
      "metadata": {
        "id": "baa6faa4"
      },
      "outputs": [],
      "source": [
        ""
      ]
    },
    {
      "cell_type": "code",
      "execution_count": 25,
      "id": "b8d7ffd5",
      "metadata": {
        "colab": {
          "base_uri": "https://localhost:8080/"
        },
        "id": "b8d7ffd5",
        "outputId": "fbbc8944-98bb-40c5-809c-5063cf3d9368"
      },
      "outputs": [
        {
          "output_type": "execute_result",
          "data": {
            "text/plain": [
              "RandomizedSearchCV(cv=10,\n",
              "                   estimator=MultinomialNB(class_prior=[0.5, 0.5],\n",
              "                                           fit_prior=False),\n",
              "                   n_jobs=-1,\n",
              "                   param_distributions={'alpha': [1e-05, 0.0005, 0.0001, 0.005,\n",
              "                                                  0.001, 0.05, 0.01, 0.1, 0.5,\n",
              "                                                  1, 5, 10, 50, 100],\n",
              "                                        'class_prior': [[0.1, 0.9], [0.2, 0.8],\n",
              "                                                        [0.3, 0.7], [0.4, 0.6],\n",
              "                                                        [0.5, 0.5],\n",
              "                                                        [0.6, 0.4]]},\n",
              "                   return_train_score=True, scoring='roc_auc')"
            ]
          },
          "metadata": {},
          "execution_count": 25
        }
      ],
      "source": [
        "classifier= MultinomialNB(fit_prior=False, class_prior=[0.5,0.5])\n",
        "parameters={ \n",
        "    'class_prior':[[0.1,0.9],[0.2,0.8],[0.3,0.7],[0.4,0.6],[0.5,0.5],[0.6,0.4]],\n",
        "    'alpha':[0.00001,0.0005, 0.0001,0.005,0.001,0.05,0.01,0.1,0.5,1,5,10,50,100]}\n",
        "\n",
        "clf= RandomizedSearchCV(classifier,parameters,cv=10,scoring='roc_auc', return_train_score=True, n_jobs=-1)\n",
        "clf.fit(X_tr,y_train)"
      ]
    },
    {
      "cell_type": "code",
      "execution_count": 26,
      "id": "75c85f51",
      "metadata": {
        "colab": {
          "base_uri": "https://localhost:8080/"
        },
        "id": "75c85f51",
        "outputId": "ecbfd7d6-037a-4528-afbc-dda9f0b69e01"
      },
      "outputs": [
        {
          "output_type": "execute_result",
          "data": {
            "text/plain": [
              "{'alpha': 0.0005, 'class_prior': [0.2, 0.8]}"
            ]
          },
          "metadata": {},
          "execution_count": 26
        }
      ],
      "source": [
        "clf.best_params_"
      ]
    },
    {
      "cell_type": "code",
      "execution_count": 26,
      "id": "d6006c3d",
      "metadata": {
        "id": "d6006c3d"
      },
      "outputs": [],
      "source": [
        ""
      ]
    },
    {
      "cell_type": "code",
      "execution_count": 27,
      "id": "8164d6a8",
      "metadata": {
        "colab": {
          "base_uri": "https://localhost:8080/",
          "height": 295
        },
        "id": "8164d6a8",
        "outputId": "1c847744-57b0-4981-85e9-ae38a0d0a783"
      },
      "outputs": [
        {
          "output_type": "display_data",
          "data": {
            "image/png": "[encoded data removed]",
            "text/plain": [
              "<Figure size 432x288 with 1 Axes>"
            ]
          },
          "metadata": {
            "needs_background": "light"
          }
        }
      ],
      "source": [
        "\n",
        "results = pd.DataFrame.from_dict(clf.cv_results_)\n",
        "results = results.sort_values(['param_alpha'])\n",
        "\n",
        "train_auc= results['mean_train_score']\n",
        "train_auc_std= results['std_train_score']\n",
        "cv_auc = results['mean_test_score'] \n",
        "cv_auc_std= results['std_test_score']\n",
        "alpha =  results['param_alpha']\n",
        "log=[]\n",
        "for i in alpha:\n",
        "    loga=math.log(i)\n",
        "    log.append(loga)\n",
        "    \n",
        "    \n",
        "    \n",
        "plt.plot(log, train_auc, label='Train AUC')\n",
        "# this code is copied from here: https://stackoverflow.com/a/48803361/4084039\n",
        "# plt.gca().fill_between(K, train_auc - train_auc_std,train_auc + train_auc_std,alpha=0.2,color='darkblue')\n",
        "\n",
        "plt.plot(log, cv_auc, label='CV AUC')\n",
        "# this code is copied from here: https://stackoverflow.com/a/48803361/4084039\n",
        "# plt.gca().fill_between(K, cv_auc - cv_auc_std,cv_auc + cv_auc_std,alpha=0.2,color='darkorange')\n",
        "\n",
        "plt.scatter(log, train_auc, label='Train AUC points')\n",
        "plt.scatter(log, cv_auc, label='CV AUC points')\n",
        "\n",
        "\n",
        "plt.legend()\n",
        "plt.xlabel(\"alpha: hyperparameter\")\n",
        "plt.ylabel(\"AUC\")\n",
        "plt.title(\"Hyper parameter Vs AUC plot\")\n",
        "plt.grid()\n",
        "plt.show()\n"
      ]
    },
    {
      "cell_type": "markdown",
      "id": "19cf5dfa",
      "metadata": {
        "id": "19cf5dfa"
      },
      "source": [
        "--------------"
      ]
    },
    {
      "cell_type": "markdown",
      "id": "ae743f4f",
      "metadata": {
        "id": "ae743f4f"
      },
      "source": [
        "# Training model using Best Hyperparmeter"
      ]
    },
    {
      "cell_type": "code",
      "execution_count": 58,
      "id": "a9cbeab4",
      "metadata": {
        "colab": {
          "base_uri": "https://localhost:8080/"
        },
        "id": "a9cbeab4",
        "outputId": "f64839bb-8875-43c2-d4ec-a60e3bd0d772"
      },
      "outputs": [
        {
          "output_type": "execute_result",
          "data": {
            "text/plain": [
              "MultinomialNB(alpha=0.0005, class_prior=[0.2, 0.8], fit_prior=False)"
            ]
          },
          "metadata": {},
          "execution_count": 58
        }
      ],
      "source": [
        "Classifier=MultinomialNB(alpha=0.0005,fit_prior=False, class_prior=[0.2,0.8])\n",
        "Classifier.fit(X_tr, y_train)\n"
      ]
    },
    {
      "cell_type": "code",
      "execution_count": 59,
      "id": "d38b35c8",
      "metadata": {
        "id": "d38b35c8"
      },
      "outputs": [],
      "source": [
        "y_train_pred=Classifier.predict_proba(X_tr)[:,1]\n",
        "y_test_pred=Classifier.predict_proba(X_te)[:,1]"
      ]
    },
    {
      "cell_type": "code",
      "execution_count": 60,
      "id": "07f724f1",
      "metadata": {
        "colab": {
          "base_uri": "https://localhost:8080/"
        },
        "id": "07f724f1",
        "outputId": "719d1792-0073-4509-af00-4726c4bf6e01"
      },
      "outputs": [
        {
          "output_type": "execute_result",
          "data": {
            "text/plain": [
              "(73196,)"
            ]
          },
          "metadata": {},
          "execution_count": 60
        }
      ],
      "source": [
        "y_train_pred.shape"
      ]
    },
    {
      "cell_type": "code",
      "execution_count": 61,
      "id": "0019a365",
      "metadata": {
        "scrolled": true,
        "colab": {
          "base_uri": "https://localhost:8080/"
        },
        "id": "0019a365",
        "outputId": "fa59f1ea-88bb-455a-e98d-f6b9c439eba0"
      },
      "outputs": [
        {
          "output_type": "execute_result",
          "data": {
            "text/plain": [
              "(73196,)"
            ]
          },
          "metadata": {},
          "execution_count": 61
        }
      ],
      "source": [
        "y_train.shape"
      ]
    },
    {
      "cell_type": "markdown",
      "id": "31a2afb7",
      "metadata": {
        "id": "31a2afb7"
      },
      "source": [
        "---"
      ]
    },
    {
      "cell_type": "markdown",
      "id": "d291ab84",
      "metadata": {
        "id": "d291ab84"
      },
      "source": [
        "# ROC curve of both train and test data"
      ]
    },
    {
      "cell_type": "code",
      "execution_count": 62,
      "id": "2a3e1236",
      "metadata": {
        "id": "2a3e1236"
      },
      "outputs": [],
      "source": [
        "\n",
        "train_fpr, train_tpr, tr_threshold= roc_curve(y_train, y_train_pred)\n",
        "test_fpr, test_tpr, te_threshold = roc_curve(y_test, y_test_pred)"
      ]
    },
    {
      "cell_type": "code",
      "execution_count": 63,
      "id": "a8a76f90",
      "metadata": {
        "scrolled": true,
        "colab": {
          "base_uri": "https://localhost:8080/",
          "height": 295
        },
        "id": "a8a76f90",
        "outputId": "4e598424-001e-457c-9cc0-5a989719ea1a"
      },
      "outputs": [
        {
          "output_type": "display_data",
          "data": {
            "image/png": "[encoded data removed]",
            "text/plain": [
              "<Figure size 432x288 with 1 Axes>"
            ]
          },
          "metadata": {
            "needs_background": "light"
          }
        }
      ],
      "source": [
        "plt.plot(train_fpr, train_tpr, label=\"train AUC =\"+str(auc(train_fpr, train_tpr)))\n",
        "plt.plot(test_fpr, test_tpr, label=\"test AUC =\"+str(auc(test_fpr, test_tpr)))\n",
        "plt.legend()\n",
        "plt.xlabel(\"alpha: hyperparameter\")\n",
        "plt.ylabel(\"AUC\")\n",
        "plt.title(\"ERROR PLOTS\")\n",
        "plt.grid()\n",
        "plt.show()"
      ]
    },
    {
      "cell_type": "code",
      "execution_count": 64,
      "id": "e5146984",
      "metadata": {
        "id": "e5146984"
      },
      "outputs": [],
      "source": [
        "def find_best_threshold(threshould, fpr, tpr):\n",
        "    t = threshould[np.argmax(tpr*(1-fpr))]\n",
        "    # (tpr*(1-fpr)) will be maximum if your fpr is very low and tpr is very high\n",
        "    print(\"the maximum value of tpr*(1-fpr)\", max(tpr*(1-fpr)), \"for threshold\", np.round(t,3))\n",
        "    return t\n",
        "\n",
        "def predict_with_best_t(proba, threshould):\n",
        "    predictions = []\n",
        "    for i in proba:\n",
        "        if i>=threshould:\n",
        "            predictions.append(1)\n",
        "        else:\n",
        "            predictions.append(0)\n",
        "    return predictions"
      ]
    },
    {
      "cell_type": "code",
      "source": [
        "best_t=find_best_threshold(tr_threshold, train_fpr, train_tpr)"
      ],
      "metadata": {
        "colab": {
          "base_uri": "https://localhost:8080/"
        },
        "id": "x6sOwWIUF0e_",
        "outputId": "c2092de8-70f8-4875-c2cb-ca961c9e5a57"
      },
      "id": "x6sOwWIUF0e_",
      "execution_count": 65,
      "outputs": [
        {
          "output_type": "stream",
          "name": "stdout",
          "text": [
            "the maximum value of tpr*(1-fpr) 0.4104655815873151 for threshold 0.797\n"
          ]
        }
      ]
    },
    {
      "cell_type": "code",
      "execution_count": 66,
      "id": "49a7425b",
      "metadata": {
        "id": "49a7425b"
      },
      "outputs": [],
      "source": [
        "cm_train=confusion_matrix(y_train,predict_with_best_t(y_train_pred, best_t))\n"
      ]
    },
    {
      "cell_type": "code",
      "execution_count": 67,
      "id": "65a56a71",
      "metadata": {
        "colab": {
          "base_uri": "https://localhost:8080/"
        },
        "id": "65a56a71",
        "outputId": "7edc3d4e-a4d9-4664-e1a4-a067a240d54f"
      },
      "outputs": [
        {
          "output_type": "execute_result",
          "data": {
            "text/plain": [
              "array([[ 7093,  3990],\n",
              "       [22276, 39837]])"
            ]
          },
          "metadata": {},
          "execution_count": 67
        }
      ],
      "source": [
        "cm_train"
      ]
    },
    {
      "cell_type": "code",
      "execution_count": 68,
      "id": "1ce4fe7d",
      "metadata": {
        "id": "1ce4fe7d"
      },
      "outputs": [],
      "source": [
        "cm_test=confusion_matrix(y_test, predict_with_best_t(y_test_pred,best_t))"
      ]
    },
    {
      "cell_type": "code",
      "execution_count": 69,
      "id": "53f89da2",
      "metadata": {
        "colab": {
          "base_uri": "https://localhost:8080/"
        },
        "id": "53f89da2",
        "outputId": "4d8819e6-5e01-466d-dc7b-ab23f30491ec"
      },
      "outputs": [
        {
          "output_type": "execute_result",
          "data": {
            "text/plain": [
              "array([[ 3421,  2038],\n",
              "       [11012, 19581]])"
            ]
          },
          "metadata": {},
          "execution_count": 69
        }
      ],
      "source": [
        "cm_test"
      ]
    },
    {
      "cell_type": "code",
      "execution_count": 69,
      "id": "f1e5f3e7",
      "metadata": {
        "id": "f1e5f3e7"
      },
      "outputs": [],
      "source": [
        ""
      ]
    },
    {
      "cell_type": "code",
      "execution_count": 70,
      "id": "6cd24475",
      "metadata": {
        "id": "6cd24475"
      },
      "outputs": [],
      "source": [
        "def confusion_matrix_train_data(cm):\n",
        "    ax= plt.subplot();\n",
        "    sns.heatmap(cm,annot=True,cmap='Blues',ax=ax);\n",
        "    \n",
        "    # labels, title and ticks\n",
        "    ax.set_xlabel('Predicted labels');ax.set_ylabel('True labels'); \n",
        "    ax.set_ylim(2.0, 0)\n",
        "    ax.set_title('Confusion Matrix Train Data');\n",
        "    ax.xaxis.set_ticklabels(['No','Yes']); \n",
        "    ax.yaxis.set_ticklabels(['No','Yes']);"
      ]
    },
    {
      "cell_type": "code",
      "execution_count": 71,
      "id": "4c02e6b1",
      "metadata": {
        "colab": {
          "base_uri": "https://localhost:8080/",
          "height": 295
        },
        "id": "4c02e6b1",
        "outputId": "9b72a808-f020-47e0-884e-2b5a4704dc03"
      },
      "outputs": [
        {
          "output_type": "display_data",
          "data": {
            "image/png": "[encoded data removed]",
            "text/plain": [
              "<Figure size 432x288 with 2 Axes>"
            ]
          },
          "metadata": {
            "needs_background": "light"
          }
        }
      ],
      "source": [
        "confusion_matrix_train_data(cm_train)"
      ]
    },
    {
      "cell_type": "code",
      "execution_count": 72,
      "id": "0415d674",
      "metadata": {
        "id": "0415d674"
      },
      "outputs": [],
      "source": [
        "def confusion_matrix_test_data(cm):\n",
        "    ax= plt.subplot();\n",
        "    sns.heatmap(cm,annot=True,cmap='Blues',ax=ax);\n",
        "    # labels, title and ticks\n",
        "    ax.set_xlabel('Predicted labels');ax.set_ylabel('True labels'); \n",
        "    ax.set_ylim(2.0, 0)\n",
        "    ax.set_title('Confusion Matrix Test Data');\n",
        "    ax.xaxis.set_ticklabels(['No','Yes']); \n",
        "    ax.yaxis.set_ticklabels(['No','Yes']);"
      ]
    },
    {
      "cell_type": "code",
      "execution_count": 73,
      "id": "88ae2b19",
      "metadata": {
        "scrolled": true,
        "colab": {
          "base_uri": "https://localhost:8080/",
          "height": 295
        },
        "id": "88ae2b19",
        "outputId": "3a04d7fa-8414-4b04-dddf-5c7f09c719e4"
      },
      "outputs": [
        {
          "output_type": "display_data",
          "data": {
            "image/png": "[encoded data removed]",
            "text/plain": [
              "<Figure size 432x288 with 2 Axes>"
            ]
          },
          "metadata": {
            "needs_background": "light"
          }
        }
      ],
      "source": [
        "confusion_matrix_test_data(cm_test)\n"
      ]
    },
    {
      "cell_type": "markdown",
      "id": "0fb18a0d",
      "metadata": {
        "id": "0fb18a0d"
      },
      "source": [
        "------------"
      ]
    },
    {
      "cell_type": "markdown",
      "id": "9242a9a9",
      "metadata": {
        "id": "9242a9a9"
      },
      "source": [
        "# Finding Top 20 positive and Negative Features"
      ]
    },
    {
      "cell_type": "code",
      "execution_count": 74,
      "id": "49414a56",
      "metadata": {
        "id": "49414a56"
      },
      "outputs": [],
      "source": [
        "label_0=Classifier.feature_log_prob_[0]\n"
      ]
    },
    {
      "cell_type": "code",
      "execution_count": 75,
      "id": "153fb2e3",
      "metadata": {
        "id": "153fb2e3"
      },
      "outputs": [],
      "source": [
        "label_1=Classifier.feature_log_prob_[1]"
      ]
    },
    {
      "cell_type": "code",
      "execution_count": 76,
      "id": "cbaae9bb",
      "metadata": {
        "colab": {
          "base_uri": "https://localhost:8080/"
        },
        "id": "cbaae9bb",
        "outputId": "c6e47f57-c37b-4ead-d376-771feeb27958"
      },
      "outputs": [
        {
          "output_type": "execute_result",
          "data": {
            "text/plain": [
              "(5101,)"
            ]
          },
          "metadata": {},
          "execution_count": 76
        }
      ],
      "source": [
        "label_1.shape"
      ]
    },
    {
      "cell_type": "code",
      "execution_count": 77,
      "id": "906872f0",
      "metadata": {
        "id": "906872f0"
      },
      "outputs": [],
      "source": [
        "feature_names = []"
      ]
    },
    {
      "cell_type": "code",
      "execution_count": 78,
      "id": "0038090c",
      "metadata": {
        "id": "0038090c"
      },
      "outputs": [],
      "source": [
        "#for cnt in vectorizer_clean_categories.get_feature_names():\n",
        "feature_names.extend(vectorizer_clean_categories.get_feature_names())\n",
        "    \n",
        "#for cnt1 in vectorizer_clean_sub.get_feature_names():\n",
        "feature_names.extend(vectorizer_clean_sub.get_feature_names())\n",
        "\n",
        "#for cnt2 in vectorizer_essay.get_feature_names():\n",
        "feature_names.extend(vectorizer_essay.get_feature_names())\n",
        "    \n",
        "#for cnt3 in vectorizer_project_grade_category.get_feature_names():\n",
        "feature_names.extend(vectorizer_project_grade_category.get_feature_names())\n",
        "\n",
        "#for cnt4 in vectorizer_school_state.get_feature_names():\n",
        "feature_names.extend(vectorizer_school_state.get_feature_names())\n",
        "    \n",
        "#for cnt5 in vectorizer_teacher_prefix.get_feature_names():\n",
        "feature_names.extend(vectorizer_teacher_prefix.get_feature_names())\n"
      ]
    },
    {
      "cell_type": "code",
      "execution_count": 79,
      "id": "4555f8b1",
      "metadata": {
        "id": "4555f8b1"
      },
      "outputs": [],
      "source": [
        "feature_names.append('Price')\n",
        "\n",
        "feature_names.append('prev_proposed_projects')"
      ]
    },
    {
      "cell_type": "code",
      "execution_count": 80,
      "id": "5b8da197",
      "metadata": {
        "id": "5b8da197"
      },
      "outputs": [],
      "source": [
        "negative_labels=np.argsort(-label_0)"
      ]
    },
    {
      "cell_type": "code",
      "execution_count": 81,
      "id": "43cbf519",
      "metadata": {
        "colab": {
          "base_uri": "https://localhost:8080/"
        },
        "id": "43cbf519",
        "outputId": "1f7255d3-8d8a-448c-8900-213af9c37b4d"
      },
      "outputs": [
        {
          "output_type": "execute_result",
          "data": {
            "text/plain": [
              "(5101,)"
            ]
          },
          "metadata": {},
          "execution_count": 81
        }
      ],
      "source": [
        "negative_labels.shape"
      ]
    },
    {
      "cell_type": "code",
      "execution_count": 82,
      "id": "6f5a9fbe",
      "metadata": {
        "id": "6f5a9fbe"
      },
      "outputs": [],
      "source": [
        "positive_labels=np.argsort(-label_1)"
      ]
    },
    {
      "cell_type": "code",
      "execution_count": 82,
      "id": "7074caf3",
      "metadata": {
        "id": "7074caf3"
      },
      "outputs": [],
      "source": [
        ""
      ]
    },
    {
      "cell_type": "code",
      "execution_count": 83,
      "id": "fb8354e3",
      "metadata": {
        "id": "fb8354e3"
      },
      "outputs": [],
      "source": [
        "def top_20_positive_features(feature_list):\n",
        "    for i in positive_labels[:20]:\n",
        "        \n",
        "        print(feature_names[i])\n",
        "    "
      ]
    },
    {
      "cell_type": "code",
      "execution_count": 84,
      "id": "900b8fae",
      "metadata": {
        "colab": {
          "base_uri": "https://localhost:8080/"
        },
        "id": "900b8fae",
        "outputId": "b3f19c72-ccdd-4e86-8dd2-79047e06b873"
      },
      "outputs": [
        {
          "output_type": "stream",
          "name": "stdout",
          "text": [
            "prev_proposed_projects\n",
            "2016\n",
            "16\n",
            "21st century learners\n",
            "20\n",
            "21st century learning\n",
            "17\n",
            "19\n",
            "45\n",
            "4th 5th\n",
            "4th\n",
            "1st\n",
            "literacy_language\n",
            "21st\n",
            "5th grade\n",
            "22\n",
            "students deserve\n",
            "2017\n",
            "1st grade\n",
            "24\n"
          ]
        }
      ],
      "source": [
        "top_20_positive_features(feature_names)"
      ]
    },
    {
      "cell_type": "code",
      "execution_count": 85,
      "id": "ef8ff44a",
      "metadata": {
        "id": "ef8ff44a"
      },
      "outputs": [],
      "source": [
        "def top_20_negative_features(feature_list):\n",
        "    for i in negative_labels[:20]:\n",
        "        print(feature_names[i])\n",
        "    \n",
        "    "
      ]
    },
    {
      "cell_type": "code",
      "execution_count": 86,
      "id": "d3560fdd",
      "metadata": {
        "colab": {
          "base_uri": "https://localhost:8080/"
        },
        "id": "d3560fdd",
        "outputId": "aa4755bb-b08d-4bae-99fc-675ac43edbde"
      },
      "outputs": [
        {
          "output_type": "stream",
          "name": "stdout",
          "text": [
            "prev_proposed_projects\n",
            "2016\n",
            "16\n",
            "21st century learners\n",
            "20\n",
            "21st century learning\n",
            "17\n",
            "19\n",
            "45\n",
            "4th 5th\n",
            "4th\n",
            "1st\n",
            "22\n",
            "5th grade\n",
            "21st\n",
            "literacy_language\n",
            "2017\n",
            "students deserve\n",
            "24\n",
            "1st grade\n"
          ]
        }
      ],
      "source": [
        "\n",
        "top_20_negative_features(feature_names)"
      ]
    },
    {
      "cell_type": "code",
      "execution_count": 86,
      "id": "5bbab07b",
      "metadata": {
        "id": "5bbab07b"
      },
      "outputs": [],
      "source": [
        ""
      ]
    },
    {
      "cell_type": "code",
      "execution_count": 87,
      "id": "37a7f5a6",
      "metadata": {
        "colab": {
          "base_uri": "https://localhost:8080/"
        },
        "id": "37a7f5a6",
        "outputId": "c6bdb3cf-cda2-43b5-c8df-a9a6428f4e3b"
      },
      "outputs": [
        {
          "output_type": "stream",
          "name": "stdout",
          "text": [
            "+------------+-------------------------+-----------------------+-------------+-----------+\n",
            "| Vectorizer |          Model          | Alpha:Hyper Parameter | class_prior |  Test AUC |\n",
            "+------------+-------------------------+-----------------------+-------------+-----------+\n",
            "|    BOW     | Multonomial Naive Bayes |         0.0005        |  [0.3, 0.7] |    0.69   |\n",
            "|   TFIDF    | Multinomial Naive Bayes |         0.001         |  [0.3, 0.7] |    0.66   |\n",
            "+------------+-------------------------+-----------------------+-------------+-----------+\n"
          ]
        }
      ],
      "source": [
        "from prettytable import PrettyTable\n",
        "\n",
        "#If you get a ModuleNotFoundError error , install prettytable using: pip3 install prettytable\n",
        "\n",
        "x = PrettyTable()\n",
        "x.field_names = [\"Vectorizer\", \"Model\", \"Alpha:Hyper Parameter\",'class_prior', \" Test AUC\"]\n",
        "\n",
        "x.add_row([\"BOW\", \"Multonomial Naive Bayes\", 0.0005,[0.3,0.7], 0.69])\n",
        "x.add_row([\"TFIDF\", \"Multinomial Naive Bayes\", 0.001,[0.3,0.7], 0.66])\n",
        "\n",
        "print(x)"
      ]
    },
    {
      "cell_type": "code",
      "execution_count": 87,
      "id": "73ba4cd0",
      "metadata": {
        "id": "73ba4cd0"
      },
      "outputs": [],
      "source": [
        ""
      ]
    },
    {
      "cell_type": "code",
      "execution_count": 87,
      "id": "6f86b862",
      "metadata": {
        "id": "6f86b862"
      },
      "outputs": [],
      "source": [
        ""
      ]
    },
    {
      "cell_type": "code",
      "execution_count": 87,
      "id": "08786263",
      "metadata": {
        "id": "08786263"
      },
      "outputs": [],
      "source": [
        ""
      ]
    },
    {
      "cell_type": "code",
      "execution_count": 87,
      "id": "e0e4298c",
      "metadata": {
        "id": "e0e4298c"
      },
      "outputs": [],
      "source": [
        ""
      ]
    },
    {
      "cell_type": "code",
      "execution_count": 87,
      "id": "5b0f4b24",
      "metadata": {
        "id": "5b0f4b24"
      },
      "outputs": [],
      "source": [
        ""
      ]
    },
    {
      "cell_type": "code",
      "execution_count": 87,
      "id": "08acf296",
      "metadata": {
        "id": "08acf296"
      },
      "outputs": [],
      "source": [
        ""
      ]
    },
    {
      "cell_type": "code",
      "execution_count": 87,
      "id": "df502d4a",
      "metadata": {
        "id": "df502d4a"
      },
      "outputs": [],
      "source": [
        ""
      ]
    }
  ],
  "metadata": {
    "kernelspec": {
      "display_name": "Python 3",
      "language": "python",
      "name": "python3"
    },
    "language_info": {
      "codemirror_mode": {
        "name": "ipython",
        "version": 3
      },
      "file_extension": ".py",
      "mimetype": "text/x-python",
      "name": "python",
      "nbconvert_exporter": "python",
      "pygments_lexer": "ipython3",
      "version": "3.8.8"
    },
    "colab": {
      "name": "Multinomial NB(tfidf).ipynb",
      "provenance": [],
      "collapsed_sections": []
    }
  },
  "nbformat": 4,
  "nbformat_minor": 5
}